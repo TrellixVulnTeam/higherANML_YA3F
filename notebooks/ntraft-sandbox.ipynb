{
 "cells": [
  {
   "cell_type": "markdown",
   "id": "fd2266f9",
   "metadata": {},
   "source": [
    "# Imports"
   ]
  },
  {
   "cell_type": "code",
   "execution_count": null,
   "id": "b2b6fc82",
   "metadata": {},
   "outputs": [],
   "source": [
    "%load_ext autoreload\n",
    "%autoreload 2"
   ]
  },
  {
   "cell_type": "code",
   "execution_count": 17,
   "id": "b192efbc",
   "metadata": {},
   "outputs": [],
   "source": [
    "# Astonishingly there seems to be no clean way to set up the Python path automatically for a script that does not\n",
    "# reside in the root folder. This will need to be added to all notebooks unless a better solution comes along.\n",
    "import os, sys\n",
    "project_root = os.path.abspath('..')\n",
    "if project_root not in sys.path:\n",
    "    sys.path.insert(0, project_root)\n",
    "\n",
    "import os\n",
    "from pathlib import Path\n",
    "\n",
    "import numpy as np\n",
    "import matplotlib.pyplot as plt\n",
    "%matplotlib inline\n",
    "import torch\n",
    "import torch.nn as nn\n",
    "import torch.nn.functional as F\n",
    "\n",
    "from datasets.mini_imagenet import MiniImageNet, Split\n",
    "from datasets.utils import extract_archive"
   ]
  },
  {
   "cell_type": "markdown",
   "id": "ce666821",
   "metadata": {},
   "source": [
    "# Dataset Sandbox"
   ]
  },
  {
   "cell_type": "code",
   "execution_count": 33,
   "id": "60ba99a2",
   "metadata": {},
   "outputs": [
    {
     "name": "stdout",
     "output_type": "stream",
     "text": [
      "Computing MD5: /Users/ntraft/Development/data/mini-imagenet/train.tar\n",
      "MD5 matches: /Users/ntraft/Development/data/mini-imagenet/train.tar\n",
      "/Users/ntraft/Development/data/mini-imagenet/processed_images/train already exists.\n"
     ]
    }
   ],
   "source": [
    "ds = MiniImageNet(\"../../data/mini-imagenet\", Split.TRAIN, download=True)"
   ]
  },
  {
   "cell_type": "code",
   "execution_count": 34,
   "id": "a6b37bd6",
   "metadata": {},
   "outputs": [
    {
     "name": "stdout",
     "output_type": "stream",
     "text": [
      "Collecting Training Set statistics... done.\n",
      "Training Set statistics:\n",
      "64 classes\n",
      "38400 examples\n"
     ]
    },
    {
     "data": {
      "image/png": "[encoded data removed]",
      "text/plain": [
       "<Figure size 720x576 with 3 Axes>"
      ]
     },
     "metadata": {
      "needs_background": "light"
     },
     "output_type": "display_data"
    }
   ],
   "source": [
    "from collections import defaultdict, namedtuple\n",
    "\n",
    "\n",
    "def show_image_classification_dataset_stats(name, dataset):\n",
    "    \"\"\"\n",
    "    Show statistics for an image classification dataset.\n",
    "    \n",
    "    Args:\n",
    "        name (str): Name of the dataset, like \"Training\" or \"Validation\".\n",
    "        dataset (Dataset): A PyTorch dataset object.\n",
    "    \"\"\"\n",
    "    title = name + \" Set\"\n",
    "    print(f\"Collecting {title} statistics...\", end=\" \", flush=True)\n",
    "    total_size = 0\n",
    "    class_sizes = []\n",
    "    widths = []\n",
    "    heights = []\n",
    "    class_map = defaultdict(int)\n",
    "    for img, label in dataset:\n",
    "        class_map[label] += 1\n",
    "        widths.append(img.width)\n",
    "        heights.append(img.height)\n",
    "    class_sizes = list(class_map.values())\n",
    "    print(\"done.\")\n",
    "\n",
    "    print(title, \"statistics:\")\n",
    "    print(len(class_map), \"classes\")\n",
    "    print(len(dataset), \"examples\")\n",
    "\n",
    "    fig, (sax, wax, hax) = plt.subplots(3, figsize=(10, 8), gridspec_kw={\"hspace\": 0.5})\n",
    "    sax.hist(class_sizes)\n",
    "    sax.set_xlabel(\"Number of samples\")\n",
    "    sax.set_ylabel(\"Number of classes\")\n",
    "    sax.set_title(f\"{title}: Samples Per Class\")\n",
    "\n",
    "    wax.hist(widths)\n",
    "    wax.set_xlabel(\"Width (pixels)\")\n",
    "    wax.set_ylabel(\"Number of samples\")\n",
    "    wax.set_title(f\"{title}: Image Widths\")\n",
    "\n",
    "    hax.hist(heights)\n",
    "    hax.set_xlabel(\"Height (pixels)\")\n",
    "    hax.set_ylabel(\"Number of samples\")\n",
    "    hax.set_title(f\"{title}: Image Heights\")\n",
    "\n",
    "    \n",
    "show_image_classification_dataset_stats(str(ds.split), ds)"
   ]
  },
  {
   "cell_type": "code",
   "execution_count": 15,
   "id": "9434cbf7",
   "metadata": {},
   "outputs": [
    {
     "name": "stdout",
     "output_type": "stream",
     "text": [
      "16\n",
      "First class: 0 to 599\n",
      "Second class: 600 to 1199\n",
      "Last class: 9000 to 9599\n"
     ]
    }
   ],
   "source": [
    "cdex = ds.class_index\n",
    "print(len(cdex))\n",
    "print(f\"First class: {cdex[0][0]} to {cdex[0][-1]}\")\n",
    "print(f\"Second class: {cdex[1][0]} to {cdex[1][-1]}\")\n",
    "print(f\"Last class: {cdex[-1][0]} to {cdex[-1][-1]}\")"
   ]
  },
  {
   "cell_type": "markdown",
   "id": "7b10c7a1",
   "metadata": {},
   "source": [
    "# Torch Sandbox"
   ]
  },
  {
   "cell_type": "code",
   "execution_count": 30,
   "id": "b60a7356",
   "metadata": {},
   "outputs": [
    {
     "name": "stdout",
     "output_type": "stream",
     "text": [
      "torch.Size([20, 256, 24, 24])\n",
      "torch.Size([20, 1, 14, 14])\n",
      "torch.Size([20, 256, 12, 12])\n",
      "torch.Size([20, 147456])\n",
      "147456\n",
      "49152.0\n"
     ]
    }
   ],
   "source": [
    "from model import ConvBlock\n",
    "\n",
    "in_channels = 1\n",
    "out_channels = 256\n",
    "conv1 = nn.Conv2d(in_channels, out_channels, kernel_size=3)\n",
    "conv2 = nn.Conv2d(out_channels, out_channels, kernel_size=3)\n",
    "\n",
    "batch = torch.randn(20, in_channels, 28, 28)\n",
    "out = conv2(conv1(batch))\n",
    "print(out.size())\n",
    "\n",
    "print(F.max_pool2d(batch, kernel_size=2, stride=2).size())\n",
    "print(F.max_pool2d(out, kernel_size=2, stride=2).size())\n",
    "print(torch.flatten(out, start_dim=1).size())\n",
    "print(np.prod(out.size()[1:]))\n",
    "print()"
   ]
  },
  {
   "cell_type": "markdown",
   "id": "9a856adc",
   "metadata": {},
   "source": [
    "# Python Sandbox"
   ]
  },
  {
   "cell_type": "code",
   "execution_count": 36,
   "id": "fc8917a5",
   "metadata": {},
   "outputs": [
    {
     "name": "stdout",
     "output_type": "stream",
     "text": [
      "[('a', 1, 'x'), ('b', 2, 'y'), ('c', 3, 'z')]\n",
      "[('a', 'b', 'c'), (1, 2, 3), ('x', 'y', 'z')]\n"
     ]
    }
   ],
   "source": [
    "a = [\"a\", \"b\", \"c\"]\n",
    "b = [1, 2, 3]\n",
    "c = [\"x\", \"y\", \"z\"]\n",
    "z = list(zip(a, b, c))\n",
    "print(z)\n",
    "u = list(zip(*z))\n",
    "print(u)"
   ]
  }
 ],
 "metadata": {
  "kernelspec": {
   "display_name": "Python 3 (ipykernel)",
   "language": "python",
   "name": "python3"
  },
  "language_info": {
   "codemirror_mode": {
    "name": "ipython",
    "version": 3
   },
   "file_extension": ".py",
   "mimetype": "text/x-python",
   "name": "python",
   "nbconvert_exporter": "python",
   "pygments_lexer": "ipython3",
   "version": "3.9.7"
  }
 },
 "nbformat": 4,
 "nbformat_minor": 5
}
